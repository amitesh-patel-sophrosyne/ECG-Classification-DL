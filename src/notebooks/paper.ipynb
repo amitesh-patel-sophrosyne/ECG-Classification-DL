{
 "cells": [
  {
   "cell_type": "markdown",
   "id": "b90defb3",
   "metadata": {},
   "source": [
    "### Downloading the Dataset"
   ]
  },
  {
   "cell_type": "code",
   "execution_count": null,
   "id": "f08a0b64",
   "metadata": {},
   "outputs": [],
   "source": [
    "import wfdb\n",
    "import os\n",
    "\n",
    "output_dir = 'data/mitbih_data'\n",
    "os.makedirs(output_dir, exist_ok=True)\n",
    "\n",
    "record_names = [\n",
    "    '100', '101', '102', '103', '104', '105', '106', '107', '108', '109',\n",
    "    '111', '112', '113', '114', '115', '116', '117', '118', '119', '121',\n",
    "    '122', '123', '124', '200', '201', '202', '203', '205', '207', '208',\n",
    "    '209', '210', '212', '213', '214', '215', '217', '219', '220', '221',\n",
    "    '222', '223',\n",
    "    '228', '230', '231', '232', '233', '234'\n",
    "]\n",
    "\n",
    "for record in record_names:\n",
    "    wfdb.dl_database(\n",
    "        db_dir='mitdb',\n",
    "        dl_dir=output_dir,\n",
    "        records=[record]\n",
    "    )\n",
    "\n",
    "print(\"Download complete.\")\n",
    "\n"
   ]
  },
  {
   "cell_type": "code",
   "execution_count": null,
   "id": "c5fa4aee",
   "metadata": {},
   "outputs": [],
   "source": [
    "import wfdb\n",
    "import os\n",
    "\n",
    "output_dir = 'data/afdb_data'\n",
    "os.makedirs(output_dir, exist_ok=True)\n",
    "\n",
    "record_names = [\n",
    "    '00735', '03665', '04015', '04043', '04048', '04126', '04746',\n",
    "    '04908', '04936', '05091', '05121', '05261', '06426', '06453',\n",
    "    '06995', '07162', '07859', '07879', '07910', '08215', '08219',\n",
    "    '08378', '08405', '08434', '08455'\n",
    "]\n",
    "\n",
    "for record in record_names:\n",
    "    wfdb.dl_database(\n",
    "        db_dir='afdb',\n",
    "        dl_dir=output_dir,\n",
    "        records=[record]\n",
    "    )\n",
    "\n",
    "print(\"AFDB download complete.\")\n"
   ]
  },
  {
   "cell_type": "markdown",
   "id": "15747385",
   "metadata": {},
   "source": [
    "`wget -r -N -c -np https://physionet.org/files/ltafdb/1.0.0/`"
   ]
  },
  {
   "cell_type": "markdown",
   "id": "b4c6f541",
   "metadata": {},
   "source": [
    "### Preprocessing the Data"
   ]
  },
  {
   "cell_type": "code",
   "execution_count": null,
   "id": "ba3e59db",
   "metadata": {},
   "outputs": [],
   "source": [
    "import wfdb\n",
    "import numpy as np\n",
    "\n",
    "def load_and_preprocess_record(record_path, target_fs=128, segment_length=1280):\n",
    "    record = wfdb.rdrecord(record_path)\n",
    "    signal = record.p_signal\n",
    "    original_fs = record.fs\n",
    "\n",
    "    # Downsample\n",
    "    if original_fs != target_fs:\n",
    "        from scipy.signal import resample\n",
    "        signal = resample(signal, int(len(signal) * target_fs / original_fs))\n",
    "\n",
    "    # Normalize\n",
    "    signal = (signal - np.mean(signal)) / np.std(signal)\n",
    "\n",
    "    # Segment\n",
    "    segments = []\n",
    "    for i in range(0, len(signal) - segment_length, segment_length):\n",
    "        segments.append(signal[i:i+segment_length])\n",
    "\n",
    "    return np.array(segments)\n"
   ]
  },
  {
   "cell_type": "markdown",
   "id": "ba97d5fa",
   "metadata": {},
   "source": [
    "### Segmentation Data"
   ]
  },
  {
   "cell_type": "code",
   "execution_count": 6,
   "id": "c8ae2959",
   "metadata": {},
   "outputs": [
    {
     "name": "stdout",
     "output_type": "stream",
     "text": [
      "Paths: ['08215.hea', '04936.qrs', '08434.dat', '08378.dat', '07910.hea', '04908.qrs', '04048.qrs', '08219.dat', '07859.hea', '05121.hea', '08405.hea', '04015.hea', '06426.dat', '05261.dat', '07859.qrsc', '04936.atr', '04746.dat', '04908.atr', '05091.hea', '06995.hea', '07879.dat', '04048.atr', '06453.dat', '04048.hea', '07859.qrs', '04126.dat', '08405.qrs', '05121.qrs', '04015.qrs', '05091.atr', '07162.dat', '06995.atr', '07910.qrs', '04908.hea', '08455.dat', '04936.hea', '05091.qrsc', '08215.qrs', '08405.atr', '05121.atr', '04015.atr', '07859.atr', '05091.qrs', '06995.qrs', '07910.atr', '04043.dat', '08215.atr', '08378.atr', '04746.qrs', '08219.atr', '07879.qrs', '06426.atr', '05261.qrs', '00735.qrs', '03665.hea', '08434.atr', '04043.hea', '04908.dat', '04746.atr', '07162.hea', '08378.qrs', '04126.hea', '07879.atr', '06426.qrs', '06453.hea', '08219.qrs', '04048.dat', '00735.atr', '05261.atr', '08434.qrs', '04936.dat', '08455.hea', '08455.atr', '04043.qrs', '05261.hea', '00735.hea', '03665.qrs', '06453.atr', '07879.hea', '04126.atr', '07162.atr', '05091.dat', '06995.dat', '04746.hea', '08434.hea', '04043.atr', '08455.qrs', '08215.dat', '03665.atr', '08405.dat', '05121.dat', '04126.qrs', '04015.dat', '06426.hea', '06453.qrs', '08219.hea', '07859.dat', '08378.hea', '07162.qrs', '07910.dat']\n",
      "Record name: data/afdb_data/04936\n"
     ]
    }
   ],
   "source": [
    "import wfdb\n",
    "import os\n",
    "\n",
    "output_dir = 'data/afdb_data'\n",
    "paths = os.listdir(output_dir)\n",
    "print(\"Paths:\", paths)\n",
    "\n",
    "for path in paths:\n",
    "    if path.endswith('.atr'):\n",
    "        record_name = os.path.join(output_dir, path[:-4])\n",
    "        print(\"Record name:\", record_name)\n",
    "        annotation = wfdb.rdann(record_name, 'atr')\n",
    "        break\n",
    "        print(\"Sample indices:\", annotation.sample[:10]) \n",
    "        print(\"Symbols:\", annotation.symbol[:10])\n"
   ]
  },
  {
   "cell_type": "code",
   "execution_count": null,
   "id": "3ea7309f",
   "metadata": {},
   "outputs": [],
   "source": [
    "import wfdb\n",
    "import os\n",
    "\n",
    "output_dir = 'data/afdb_data'\n",
    "paths = os.listdir(output_dir)\n",
    "\n",
    "total_afib_samples = 0\n",
    "\n",
    "for path in paths:\n",
    "    if path.endswith('.atr'):\n",
    "        record_name = os.path.join(output_dir, path[:-4])\n",
    "        if not os.path.exists(record_name + '.dat'):\n",
    "            print(f\"Skipping {record_name} as .dat file does not exist.\")\n",
    "            continue\n",
    "\n",
    "        record = wfdb.rdrecord(record_name)\n",
    "        signal_length = len(record.p_signal)\n",
    "\n",
    "        annotation = wfdb.rdann(record_name, 'atr')\n",
    "        samples = annotation.sample\n",
    "        aux_notes = annotation.aux_note\n",
    "\n",
    "        afib_start = None\n",
    "        afib_samples = 0\n",
    "\n",
    "        for i in range(len(aux_notes)):\n",
    "            note = aux_notes[i]\n",
    "            if note == '(AFIB':\n",
    "                afib_start = samples[i]\n",
    "            elif note.startswith('(') and afib_start is not None:\n",
    "                afib_end = samples[i]\n",
    "                afib_samples += afib_end - afib_start\n",
    "                afib_start = None\n",
    "\n",
    "        if afib_start is not None:\n",
    "            afib_samples += signal_length - afib_start\n",
    "\n",
    "        total_afib_samples += afib_samples\n",
    "\n",
    "total_afib_samples \n"
   ]
  }
 ],
 "metadata": {
  "kernelspec": {
   "display_name": "sophro",
   "language": "python",
   "name": "python3"
  },
  "language_info": {
   "codemirror_mode": {
    "name": "ipython",
    "version": 3
   },
   "file_extension": ".py",
   "mimetype": "text/x-python",
   "name": "python",
   "nbconvert_exporter": "python",
   "pygments_lexer": "ipython3",
   "version": "3.10.16"
  }
 },
 "nbformat": 4,
 "nbformat_minor": 5
}
